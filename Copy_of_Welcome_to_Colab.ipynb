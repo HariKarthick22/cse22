{
  "cells": [
    {
      "cell_type": "markdown",
      "metadata": {
        "id": "view-in-github",
        "colab_type": "text"
      },
      "source": [
        "<a href=\"https://colab.research.google.com/github/HariKarthick22/cse22/blob/main/Copy_of_Welcome_to_Colab.ipynb\" target=\"_parent\"><img src=\"https://colab.research.google.com/assets/colab-badge.svg\" alt=\"Open In Colab\"/></a>"
      ]
    },
    {
      "cell_type": "code",
      "source": [
        "!pip install transformers"
      ],
      "metadata": {
        "id": "NMwcEdFXefFS",
        "outputId": "9c6f6310-4dca-46ba-8f33-e3c3dd3906ff",
        "colab": {
          "base_uri": "https://localhost:8080/"
        }
      },
      "execution_count": null,
      "outputs": [
        {
          "output_type": "stream",
          "name": "stdout",
          "text": [
            "Requirement already satisfied: transformers in /usr/local/lib/python3.11/dist-packages (4.52.4)\n",
            "Requirement already satisfied: filelock in /usr/local/lib/python3.11/dist-packages (from transformers) (3.18.0)\n",
            "Requirement already satisfied: huggingface-hub<1.0,>=0.30.0 in /usr/local/lib/python3.11/dist-packages (from transformers) (0.32.4)\n",
            "Requirement already satisfied: numpy>=1.17 in /usr/local/lib/python3.11/dist-packages (from transformers) (2.0.2)\n",
            "Requirement already satisfied: packaging>=20.0 in /usr/local/lib/python3.11/dist-packages (from transformers) (24.2)\n",
            "Requirement already satisfied: pyyaml>=5.1 in /usr/local/lib/python3.11/dist-packages (from transformers) (6.0.2)\n",
            "Requirement already satisfied: regex!=2019.12.17 in /usr/local/lib/python3.11/dist-packages (from transformers) (2024.11.6)\n",
            "Requirement already satisfied: requests in /usr/local/lib/python3.11/dist-packages (from transformers) (2.32.3)\n",
            "Requirement already satisfied: tokenizers<0.22,>=0.21 in /usr/local/lib/python3.11/dist-packages (from transformers) (0.21.1)\n",
            "Requirement already satisfied: safetensors>=0.4.3 in /usr/local/lib/python3.11/dist-packages (from transformers) (0.5.3)\n",
            "Requirement already satisfied: tqdm>=4.27 in /usr/local/lib/python3.11/dist-packages (from transformers) (4.67.1)\n",
            "Requirement already satisfied: fsspec>=2023.5.0 in /usr/local/lib/python3.11/dist-packages (from huggingface-hub<1.0,>=0.30.0->transformers) (2025.3.2)\n",
            "Requirement already satisfied: typing-extensions>=3.7.4.3 in /usr/local/lib/python3.11/dist-packages (from huggingface-hub<1.0,>=0.30.0->transformers) (4.14.0)\n",
            "Requirement already satisfied: hf-xet<2.0.0,>=1.1.2 in /usr/local/lib/python3.11/dist-packages (from huggingface-hub<1.0,>=0.30.0->transformers) (1.1.2)\n",
            "Requirement already satisfied: charset-normalizer<4,>=2 in /usr/local/lib/python3.11/dist-packages (from requests->transformers) (3.4.2)\n",
            "Requirement already satisfied: idna<4,>=2.5 in /usr/local/lib/python3.11/dist-packages (from requests->transformers) (3.10)\n",
            "Requirement already satisfied: urllib3<3,>=1.21.1 in /usr/local/lib/python3.11/dist-packages (from requests->transformers) (2.4.0)\n",
            "Requirement already satisfied: certifi>=2017.4.17 in /usr/local/lib/python3.11/dist-packages (from requests->transformers) (2025.4.26)\n"
          ]
        }
      ]
    },
    {
      "cell_type": "code",
      "source": [
        "from IPython.display import display, clear_output\n",
        "import ipywidgets as widgets\n",
        "\n",
        "from transformers import pipeline, AutoTokenizer, AutoModelForSequenceClassification\n",
        "from transformers import T5Tokenizer, T5ForConditionalGeneration\n",
        "import torch\n",
        "import pandas as pd\n",
        "import matplotlib.pyplot as plt\n",
        "import seaborn as sns\n",
        "\n",
        "# Load models\n",
        "sentiment_analyzer = pipeline(\"sentiment-analysis\", model=\"cardiffnlp/twitter-roberta-base-sentiment\")\n",
        "sarcasm_tokenizer = T5Tokenizer.from_pretrained(\"mrm8488/t5-base-finetuned-sarcasm-twitter\")\n",
        "sarcasm_model = T5ForConditionalGeneration.from_pretrained(\"mrm8488/t5-base-finetuned-sarcasm-twitter\")\n",
        "\n",
        "CATEGORY_KEYWORDS = {\n",
        "    \"Politics\": [\"election\", \"president\", \"vote\", \"government\", \"minister\", \"campaign\", \"policy\"],\n",
        "    \"Finance\": [\"market\", \"stocks\", \"money\", \"economy\", \"investment\", \"dollar\", \"inflation\", \"bank\"],\n",
        "    \"Technology\": [\"ai\", \"software\", \"robot\", \"tech\", \"digital\", \"device\", \"startup\", \"innovation\"],\n",
        "    \"Health\": [\"vaccine\", \"covid\", \"virus\", \"disease\", \"hospital\", \"treatment\", \"healthcare\"],\n",
        "    \"Entertainment\": [\"movie\", \"music\", \"actor\", \"film\", \"award\", \"celebrity\", \"tv\", \"show\"],\n",
        "    \"Sports\": [\"cricket\", \"football\", \"score\", \"goal\", \"match\", \"tournament\", \"player\", \"win\"]\n",
        "}\n",
        "\n",
        "def get_category(headline):\n",
        "    headline = headline.lower()\n",
        "    scores = {cat: 0 for cat in CATEGORY_KEYWORDS}\n",
        "    for cat, keywords in CATEGORY_KEYWORDS.items():\n",
        "        for keyword in keywords:\n",
        "            if keyword in headline:\n",
        "                scores[cat] += 1\n",
        "    max_score = max(scores.values())\n",
        "    return max(scores.items(), key=lambda x: x[1])[0] if max_score > 0 else \"General\"\n",
        "\n",
        "def detect_sarcasm(text):\n",
        "    input_text = f\"sarcasm: {text}\"\n",
        "    inputs = sarcasm_tokenizer.encode(input_text, return_tensors=\"pt\", max_length=128, truncation=True)\n",
        "    with torch.no_grad():\n",
        "        outputs = sarcasm_model.generate(inputs, max_length=2)\n",
        "    prediction = sarcasm_tokenizer.decode(outputs[0], skip_special_tokens=True)\n",
        "    return \"Sarcastic\" if prediction.lower() == \"sarcasm\" else \"Not Sarcastic\"\n",
        "\n",
        "def analyze_headlines(headlines):\n",
        "    results = []\n",
        "    batch_size = 8\n",
        "    for i in range(0, len(headlines), batch_size):\n",
        "        batch = headlines[i:i + batch_size]\n",
        "        sentiment_results = sentiment_analyzer(batch)\n",
        "\n",
        "        for j, result in enumerate(sentiment_results):\n",
        "            headline = batch[j]\n",
        "            label = result['label']\n",
        "            sentiment = {\n",
        "                \"LABEL_0\": \"Negative\",\n",
        "                \"LABEL_1\": \"Neutral\",\n",
        "                \"LABEL_2\": \"Positive\"\n",
        "            }.get(label, \"Unknown\")\n",
        "            confidence = round(result['score'] * 100, 1)\n",
        "            polarity = f\"{sentiment} ({confidence}%)\"\n",
        "            sarcasm = detect_sarcasm(headline)\n",
        "            negation = \"not\" in headline.lower() or \"n't\" in headline.lower()\n",
        "            category = get_category(headline)\n",
        "\n",
        "            results.append({\n",
        "                \"headline\": headline,\n",
        "                \"sentiment\": sentiment,\n",
        "                \"confidence\": confidence,\n",
        "                \"polarity\": polarity,\n",
        "                \"sarcasm\": sarcasm,\n",
        "                \"negation\": negation,\n",
        "                \"category\": category\n",
        "            })\n",
        "    return results\n",
        "\n",
        "def visualize_results(results_df):\n",
        "    fig, (ax1, ax2) = plt.subplots(1, 2, figsize=(12, 5))\n",
        "    sns.countplot(x='sentiment', data=results_df, ax=ax1, palette='Set2')\n",
        "    ax1.set_title('Sentiment Distribution')\n",
        "    ax1.set_ylabel('Count')\n",
        "\n",
        "    category_counts = results_df['category'].value_counts()\n",
        "    category_counts.plot.pie(autopct='%1.1f%%', ax=ax2, colors=sns.color_palette(\"Set3\", len(category_counts)))\n",
        "    ax2.set_title('Category Distribution')\n",
        "    ax2.set_ylabel('')\n",
        "    plt.tight_layout()\n",
        "    plt.show()\n",
        "\n",
        "# --- Interactive Interface ---\n",
        "text_input = widgets.Textarea(\n",
        "    value='Paste or type headlines here.\\nOne headline per line.',\n",
        "    placeholder='Enter headlines...',\n",
        "    description='Headlines:',\n",
        "    layout=widgets.Layout(width='100%', height='200px'),\n",
        "    style={'description_width': 'initial'}\n",
        ")\n",
        "\n",
        "button = widgets.Button(description=\"Analyze Headlines\", button_style='success')\n",
        "output_box = widgets.Output()\n",
        "\n",
        "def on_button_click(b):\n",
        "    with output_box:\n",
        "        clear_output()\n",
        "        lines = text_input.value.strip().split('\\n')\n",
        "        headlines = [line.strip() for line in lines if line.strip()]\n",
        "\n",
        "        if len(headlines) < 1:\n",
        "            print(\"Please enter at least one headline.\")\n",
        "            return\n",
        "\n",
        "        print(\"🔍 Analyzing...\")\n",
        "        output = analyze_headlines(headlines)\n",
        "        results_df = pd.DataFrame(output)\n",
        "\n",
        "        for i, item in enumerate(output):\n",
        "            print(f\"\\nHeadline {i+1}: {item['headline']}\")\n",
        "            print(f\"  Sentiment   : {item['sentiment']} (Confidence: {item['confidence']}%)\")\n",
        "            print(f\"  Polarity    : {item['polarity']}\")\n",
        "            print(f\"  Sarcasm     : {item['sarcasm']}\")\n",
        "            print(f\"  Negation    : {'Yes' if item['negation'] else 'No'}\")\n",
        "            print(f\"  Category    : {item['category']}\")\n",
        "\n",
        "        print(\"\\n📈 SUMMARY 📈\")\n",
        "        print(f\"Total Headlines: {len(results_df)}\")\n",
        "        print(f\"Sentiment Counts:\\n{results_df['sentiment'].value_counts()}\")\n",
        "        print(f\"Top Category: {results_df['category'].value_counts().idxmax()}\")\n",
        "        visualize_results(results_df)\n",
        "\n",
        "button.on_click(on_button_click)\n",
        "\n",
        "display(text_input, button, output_box)\n"
      ],
      "metadata": {
        "colab": {
          "base_uri": "https://localhost:8080/",
          "height": 1000,
          "referenced_widgets": [
            "44811dc1f3ea468e8348c3d697e01f6d",
            "48a303389fbd4f7bbb0138cb68c24496",
            "3382d5ce4a5b456cb0118f0d14c7d164",
            "d6b0948e7f9e44568e1b2f1e03c31c1c",
            "4c63b65c180043a9a3081c5322dd4483",
            "c64da7660ec44dab81dc1766da6a7cb9",
            "143dd36ea9ad4306a5d01490c320c52d",
            "5aa16828e16c40c7bda92aa91669d48b"
          ]
        },
        "id": "boLrg9UpsB4X",
        "outputId": "6c3c27c6-e606-42f6-be5a-ab85bbbd9b92"
      },
      "execution_count": 11,
      "outputs": [
        {
          "output_type": "stream",
          "name": "stderr",
          "text": [
            "Device set to use cpu\n"
          ]
        },
        {
          "output_type": "display_data",
          "data": {
            "text/plain": [
              "Textarea(value='Paste or type headlines here.\\nOne headline per line.', description='Headlines:', layout=Layou…"
            ],
            "application/vnd.jupyter.widget-view+json": {
              "version_major": 2,
              "version_minor": 0,
              "model_id": "44811dc1f3ea468e8348c3d697e01f6d"
            }
          },
          "metadata": {}
        },
        {
          "output_type": "display_data",
          "data": {
            "text/plain": [
              "Button(button_style='success', description='Analyze Headlines', style=ButtonStyle())"
            ],
            "application/vnd.jupyter.widget-view+json": {
              "version_major": 2,
              "version_minor": 0,
              "model_id": "d6b0948e7f9e44568e1b2f1e03c31c1c"
            }
          },
          "metadata": {}
        },
        {
          "output_type": "display_data",
          "data": {
            "text/plain": [
              "Output()"
            ],
            "application/vnd.jupyter.widget-view+json": {
              "version_major": 2,
              "version_minor": 0,
              "model_id": "143dd36ea9ad4306a5d01490c320c52d"
            }
          },
          "metadata": {}
        }
      ]
    }
  ],
  "metadata": {
    "colab": {
      "provenance": [],
      "include_colab_link": true
    },
    "kernelspec": {
      "display_name": "Python 3",
      "name": "python3"
    },
    "widgets": {
      "application/vnd.jupyter.widget-state+json": {
        "44811dc1f3ea468e8348c3d697e01f6d": {
          "model_module": "@jupyter-widgets/controls",
          "model_name": "TextareaModel",
          "model_module_version": "1.5.0",
          "state": {
            "_dom_classes": [],
            "_model_module": "@jupyter-widgets/controls",
            "_model_module_version": "1.5.0",
            "_model_name": "TextareaModel",
            "_view_count": null,
            "_view_module": "@jupyter-widgets/controls",
            "_view_module_version": "1.5.0",
            "_view_name": "TextareaView",
            "continuous_update": true,
            "description": "Headlines:",
            "description_tooltip": null,
            "disabled": false,
            "layout": "IPY_MODEL_48a303389fbd4f7bbb0138cb68c24496",
            "placeholder": "Enter headlines...",
            "rows": null,
            "style": "IPY_MODEL_3382d5ce4a5b456cb0118f0d14c7d164",
            "value": "Paste or type headlines here.\nOne headline per line.1.  Government announces new tax reforms to boost the economy\n  2.  Massive earthquake hits Japan, thousands evacuated\n  3.  Scientists discover potential cure for Alzheimer’s disease\n  4.  Stock markets surge after positive job growth report\n  5.  Cyber attack compromises millions of user accounts globally\n  6.  Actor wins national award for outstanding performance in latest film\n\n"
          }
        },
        "48a303389fbd4f7bbb0138cb68c24496": {
          "model_module": "@jupyter-widgets/base",
          "model_name": "LayoutModel",
          "model_module_version": "1.2.0",
          "state": {
            "_model_module": "@jupyter-widgets/base",
            "_model_module_version": "1.2.0",
            "_model_name": "LayoutModel",
            "_view_count": null,
            "_view_module": "@jupyter-widgets/base",
            "_view_module_version": "1.2.0",
            "_view_name": "LayoutView",
            "align_content": null,
            "align_items": null,
            "align_self": null,
            "border": null,
            "bottom": null,
            "display": null,
            "flex": null,
            "flex_flow": null,
            "grid_area": null,
            "grid_auto_columns": null,
            "grid_auto_flow": null,
            "grid_auto_rows": null,
            "grid_column": null,
            "grid_gap": null,
            "grid_row": null,
            "grid_template_areas": null,
            "grid_template_columns": null,
            "grid_template_rows": null,
            "height": "200px",
            "justify_content": null,
            "justify_items": null,
            "left": null,
            "margin": null,
            "max_height": null,
            "max_width": null,
            "min_height": null,
            "min_width": null,
            "object_fit": null,
            "object_position": null,
            "order": null,
            "overflow": null,
            "overflow_x": null,
            "overflow_y": null,
            "padding": null,
            "right": null,
            "top": null,
            "visibility": null,
            "width": "100%"
          }
        },
        "3382d5ce4a5b456cb0118f0d14c7d164": {
          "model_module": "@jupyter-widgets/controls",
          "model_name": "DescriptionStyleModel",
          "model_module_version": "1.5.0",
          "state": {
            "_model_module": "@jupyter-widgets/controls",
            "_model_module_version": "1.5.0",
            "_model_name": "DescriptionStyleModel",
            "_view_count": null,
            "_view_module": "@jupyter-widgets/base",
            "_view_module_version": "1.2.0",
            "_view_name": "StyleView",
            "description_width": "initial"
          }
        },
        "d6b0948e7f9e44568e1b2f1e03c31c1c": {
          "model_module": "@jupyter-widgets/controls",
          "model_name": "ButtonModel",
          "model_module_version": "1.5.0",
          "state": {
            "_dom_classes": [],
            "_model_module": "@jupyter-widgets/controls",
            "_model_module_version": "1.5.0",
            "_model_name": "ButtonModel",
            "_view_count": null,
            "_view_module": "@jupyter-widgets/controls",
            "_view_module_version": "1.5.0",
            "_view_name": "ButtonView",
            "button_style": "success",
            "description": "Analyze Headlines",
            "disabled": false,
            "icon": "",
            "layout": "IPY_MODEL_4c63b65c180043a9a3081c5322dd4483",
            "style": "IPY_MODEL_c64da7660ec44dab81dc1766da6a7cb9",
            "tooltip": ""
          }
        },
        "4c63b65c180043a9a3081c5322dd4483": {
          "model_module": "@jupyter-widgets/base",
          "model_name": "LayoutModel",
          "model_module_version": "1.2.0",
          "state": {
            "_model_module": "@jupyter-widgets/base",
            "_model_module_version": "1.2.0",
            "_model_name": "LayoutModel",
            "_view_count": null,
            "_view_module": "@jupyter-widgets/base",
            "_view_module_version": "1.2.0",
            "_view_name": "LayoutView",
            "align_content": null,
            "align_items": null,
            "align_self": null,
            "border": null,
            "bottom": null,
            "display": null,
            "flex": null,
            "flex_flow": null,
            "grid_area": null,
            "grid_auto_columns": null,
            "grid_auto_flow": null,
            "grid_auto_rows": null,
            "grid_column": null,
            "grid_gap": null,
            "grid_row": null,
            "grid_template_areas": null,
            "grid_template_columns": null,
            "grid_template_rows": null,
            "height": null,
            "justify_content": null,
            "justify_items": null,
            "left": null,
            "margin": null,
            "max_height": null,
            "max_width": null,
            "min_height": null,
            "min_width": null,
            "object_fit": null,
            "object_position": null,
            "order": null,
            "overflow": null,
            "overflow_x": null,
            "overflow_y": null,
            "padding": null,
            "right": null,
            "top": null,
            "visibility": null,
            "width": null
          }
        },
        "c64da7660ec44dab81dc1766da6a7cb9": {
          "model_module": "@jupyter-widgets/controls",
          "model_name": "ButtonStyleModel",
          "model_module_version": "1.5.0",
          "state": {
            "_model_module": "@jupyter-widgets/controls",
            "_model_module_version": "1.5.0",
            "_model_name": "ButtonStyleModel",
            "_view_count": null,
            "_view_module": "@jupyter-widgets/base",
            "_view_module_version": "1.2.0",
            "_view_name": "StyleView",
            "button_color": null,
            "font_weight": ""
          }
        },
        "143dd36ea9ad4306a5d01490c320c52d": {
          "model_module": "@jupyter-widgets/output",
          "model_name": "OutputModel",
          "model_module_version": "1.0.0",
          "state": {
            "_dom_classes": [],
            "_model_module": "@jupyter-widgets/output",
            "_model_module_version": "1.0.0",
            "_model_name": "OutputModel",
            "_view_count": null,
            "_view_module": "@jupyter-widgets/output",
            "_view_module_version": "1.0.0",
            "_view_name": "OutputView",
            "layout": "IPY_MODEL_5aa16828e16c40c7bda92aa91669d48b",
            "msg_id": "",
            "outputs": [
              {
                "output_type": "stream",
                "name": "stdout",
                "text": [
                  "🔍 Analyzing...\n"
                ]
              },
              {
                "output_type": "stream",
                "name": "stdout",
                "text": [
                  "\n",
                  "Headline 1: Paste or type headlines here.\n",
                  "  Sentiment   : Neutral (Confidence: 75.9%)\n",
                  "  Polarity    : Neutral (75.9%)\n",
                  "  Sarcasm     : Not Sarcastic\n",
                  "  Negation    : No\n",
                  "  Category    : General\n",
                  "\n",
                  "Headline 2: One headline per line.1.  Government announces new tax reforms to boost the economy\n",
                  "  Sentiment   : Neutral (Confidence: 55.6%)\n",
                  "  Polarity    : Neutral (55.6%)\n",
                  "  Sarcasm     : Not Sarcastic\n",
                  "  Negation    : No\n",
                  "  Category    : Politics\n",
                  "\n",
                  "Headline 3: 2.  Massive earthquake hits Japan, thousands evacuated\n",
                  "  Sentiment   : Negative (Confidence: 62.1%)\n",
                  "  Polarity    : Negative (62.1%)\n",
                  "  Sarcasm     : Not Sarcastic\n",
                  "  Negation    : No\n",
                  "  Category    : General\n",
                  "\n",
                  "Headline 4: 3.  Scientists discover potential cure for Alzheimer’s disease\n",
                  "  Sentiment   : Neutral (Confidence: 53.5%)\n",
                  "  Polarity    : Neutral (53.5%)\n",
                  "  Sarcasm     : Not Sarcastic\n",
                  "  Negation    : No\n",
                  "  Category    : Health\n",
                  "\n",
                  "Headline 5: 4.  Stock markets surge after positive job growth report\n",
                  "  Sentiment   : Positive (Confidence: 85.7%)\n",
                  "  Polarity    : Positive (85.7%)\n",
                  "  Sarcasm     : Not Sarcastic\n",
                  "  Negation    : No\n",
                  "  Category    : Finance\n",
                  "\n",
                  "Headline 6: 5.  Cyber attack compromises millions of user accounts globally\n",
                  "  Sentiment   : Negative (Confidence: 85.0%)\n",
                  "  Polarity    : Negative (85.0%)\n",
                  "  Sarcasm     : Not Sarcastic\n",
                  "  Negation    : No\n",
                  "  Category    : General\n",
                  "\n",
                  "Headline 7: 6.  Actor wins national award for outstanding performance in latest film\n",
                  "  Sentiment   : Positive (Confidence: 87.7%)\n",
                  "  Polarity    : Positive (87.7%)\n",
                  "  Sarcasm     : Not Sarcastic\n",
                  "  Negation    : No\n",
                  "  Category    : Entertainment\n",
                  "\n",
                  "📈 SUMMARY 📈\n",
                  "Total Headlines: 7\n",
                  "Sentiment Counts:\n",
                  "sentiment\n",
                  "Neutral     3\n",
                  "Negative    2\n",
                  "Positive    2\n",
                  "Name: count, dtype: int64\n",
                  "Top Category: General\n"
                ]
              },
              {
                "output_type": "stream",
                "name": "stderr",
                "text": [
                  "<ipython-input-11-2766659817>:77: FutureWarning: \n",
                  "\n",
                  "Passing `palette` without assigning `hue` is deprecated and will be removed in v0.14.0. Assign the `x` variable to `hue` and set `legend=False` for the same effect.\n",
                  "\n",
                  "  sns.countplot(x='sentiment', data=results_df, ax=ax1, palette='Set2')\n"
                ]
              },
              {
                "output_type": "display_data",
                "data": {
                  "text/plain": "<Figure size 1200x500 with 2 Axes>",
                  "image/png": "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\n"
                },
                "metadata": {}
              }
            ]
          }
        },
        "5aa16828e16c40c7bda92aa91669d48b": {
          "model_module": "@jupyter-widgets/base",
          "model_name": "LayoutModel",
          "model_module_version": "1.2.0",
          "state": {
            "_model_module": "@jupyter-widgets/base",
            "_model_module_version": "1.2.0",
            "_model_name": "LayoutModel",
            "_view_count": null,
            "_view_module": "@jupyter-widgets/base",
            "_view_module_version": "1.2.0",
            "_view_name": "LayoutView",
            "align_content": null,
            "align_items": null,
            "align_self": null,
            "border": null,
            "bottom": null,
            "display": null,
            "flex": null,
            "flex_flow": null,
            "grid_area": null,
            "grid_auto_columns": null,
            "grid_auto_flow": null,
            "grid_auto_rows": null,
            "grid_column": null,
            "grid_gap": null,
            "grid_row": null,
            "grid_template_areas": null,
            "grid_template_columns": null,
            "grid_template_rows": null,
            "height": null,
            "justify_content": null,
            "justify_items": null,
            "left": null,
            "margin": null,
            "max_height": null,
            "max_width": null,
            "min_height": null,
            "min_width": null,
            "object_fit": null,
            "object_position": null,
            "order": null,
            "overflow": null,
            "overflow_x": null,
            "overflow_y": null,
            "padding": null,
            "right": null,
            "top": null,
            "visibility": null,
            "width": null
          }
        }
      }
    }
  },
  "nbformat": 4,
  "nbformat_minor": 0
}